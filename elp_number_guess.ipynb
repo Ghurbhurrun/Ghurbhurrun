{
  "nbformat": 4,
  "nbformat_minor": 0,
  "metadata": {
    "colab": {
      "name": "elp_number_guess.ipynb",
      "provenance": [],
      "include_colab_link": true
    },
    "kernelspec": {
      "name": "python3",
      "display_name": "Python 3"
    },
    "language_info": {
      "name": "python"
    }
  },
  "cells": [
    {
      "cell_type": "markdown",
      "metadata": {
        "id": "view-in-github",
        "colab_type": "text"
      },
      "source": [
        "<a href=\"https://colab.research.google.com/github/Ghurbhurrun/Ghurbhurrun/blob/main/elp_number_guess.ipynb\" target=\"_parent\"><img src=\"https://colab.research.google.com/assets/colab-badge.svg\" alt=\"Open In Colab\"/></a>"
      ]
    },
    {
      "cell_type": "code",
      "execution_count": null,
      "metadata": {
        "colab": {
          "base_uri": "https://localhost:8080/",
          "height": 235
        },
        "id": "qzvdfufMdkWc",
        "outputId": "c347e410-786d-4011-a46f-e4e7e99808b9"
      },
      "outputs": [
        {
          "output_type": "error",
          "ename": "NameError",
          "evalue": "ignored",
          "traceback": [
            "\u001b[0;31m---------------------------------------------------------------------------\u001b[0m",
            "\u001b[0;31mNameError\u001b[0m                                 Traceback (most recent call last)",
            "\u001b[0;32m<ipython-input-1-7570631a42b9>\u001b[0m in \u001b[0;36m<module>\u001b[0;34m()\u001b[0m\n\u001b[1;32m      9\u001b[0m     \u001b[0mprint\u001b[0m\u001b[0;34m(\u001b[0m\u001b[0;34m'Please enter a number between 1 and 100.'\u001b[0m\u001b[0;34m)\u001b[0m\u001b[0;34m\u001b[0m\u001b[0;34m\u001b[0m\u001b[0m\n\u001b[1;32m     10\u001b[0m \u001b[0;34m\u001b[0m\u001b[0m\n\u001b[0;32m---> 11\u001b[0;31m \u001b[0msecretNumber\u001b[0m \u001b[0;34m=\u001b[0m \u001b[0mrandom\u001b[0m\u001b[0;34m.\u001b[0m\u001b[0mrandint\u001b[0m\u001b[0;34m(\u001b[0m\u001b[0;36m1\u001b[0m\u001b[0;34m,\u001b[0m \u001b[0;36m100\u001b[0m\u001b[0;34m)\u001b[0m\u001b[0;34m\u001b[0m\u001b[0;34m\u001b[0m\u001b[0m\n\u001b[0m\u001b[1;32m     12\u001b[0m \u001b[0mprint\u001b[0m\u001b[0;34m(\u001b[0m\u001b[0;34m'I am thinking of a number between 1 and 100.'\u001b[0m\u001b[0;34m)\u001b[0m\u001b[0;34m\u001b[0m\u001b[0;34m\u001b[0m\u001b[0m\n\u001b[1;32m     13\u001b[0m \u001b[0;34m\u001b[0m\u001b[0m\n",
            "\u001b[0;31mNameError\u001b[0m: name 'random' is not defined"
          ]
        }
      ],
      "source": [
        "\n",
        "\n",
        "def askForGuess():\n",
        "  while True:\n",
        "    guess = input('> ') \n",
        "\n",
        "    if guess.isdecimal():\n",
        "      return int(guess)\n",
        "    print('Please enter a number between 1 and 100.')\n",
        "\n",
        "secretNumber = random.randint(1, 100)\n",
        "print('I am thinking of a number between 1 and 100.')\n",
        "\n",
        "for i in range(0,10,2):\n",
        "    print('You have {10 - i} guesses left. Take a guess.')\n",
        "\n",
        "    guess == askForGuess()\n",
        "    if guess == secretNumber:\n",
        "        break\n",
        "\n",
        "    if guess < secretNumber:\n",
        "        print('Your guess is too high.')\n",
        "    if guess > secretNumber:\n",
        "        print('Your guess is too low.')\n",
        "\n",
        "if guess == secretNumber:\n",
        "    print('You guessed my number!')\n",
        "else:\n",
        "    print('No more guesses. The number I was thinking of was', secretNumber)\n"
      ]
    },
    {
      "cell_type": "code",
      "source": [
        "# import random library\n",
        "import random\n",
        "\n",
        "\n",
        "\n",
        "# define a function, on a continous loop to user as to input a number\n",
        "def askForGuess(userIn):\n",
        "    \n",
        "        print('Please enter a number between 1 and 100.')\n",
        "        userIn = input(\"Enter a number: \")\n",
        "\n",
        "        # if user input a decimal number, parse the value to int\n",
        "        if userIn.isdecimal():\n",
        "            userIn = int(userIn)\n",
        "\n",
        "        return userIn\n",
        "\n",
        "# declare a variable named guess and initialise to null\n",
        "guess = 0\n",
        "userIn = 0\n",
        "\n",
        "# declare a variable and initialise with a number ranging from 1 to 100\n",
        "secretNumber = random.randint(1, 100)\n",
        "print('I am thinking of a number between 1 and 100.')\n",
        "\n",
        " # loop through for 10 times\n",
        "for i in range(0,10,1):\n",
        "\n",
        "    # print number of guess remaining throught each iteration\n",
        "    print('You have ' + str(10-i) + ' guesses left. Take a guess.')\n",
        "\n",
        "    # prompt for user input \n",
        "    x = int(askForGuess(guess))\n",
        "    \n",
        "    # check if input is equal to random number\n",
        "    if x == secretNumber:\n",
        "        break\n",
        "                                \n",
        "    # if input greater than random number else less\n",
        "    elif x > secretNumber:\n",
        "        print('Your guess is too high.')\n",
        "                                    \n",
        "    elif x < secretNumber:\n",
        "        print('Your guess is too low.')\n",
        "\n",
        "    else:\n",
        "        break\n",
        "\n",
        "\n",
        "\n",
        "# check if input number is equal to random number\n",
        "if x == secretNumber:\n",
        "    print('Yay! You guessed my number!')\n",
        "# if fail after 10 trials, display the random number \n",
        "else:\n",
        "    print('No more guesses. The number i was thinking was ' + str(secretNumber))\n"
      ],
      "metadata": {
        "id": "cGrNYWUcMROj",
        "outputId": "a31320ac-8b61-4c49-80b2-f7ade5be4891",
        "colab": {
          "base_uri": "https://localhost:8080/"
        }
      },
      "execution_count": null,
      "outputs": [
        {
          "output_type": "stream",
          "name": "stdout",
          "text": [
            "I am thinking of a number between 1 and 100.\n",
            "You have 10 guesses left. Take a guess.\n",
            "Please enter a number between 1 and 100.\n",
            "Enter a number: 23\n",
            "Your guess is too low.\n",
            "You have 9 guesses left. Take a guess.\n",
            "Please enter a number between 1 and 100.\n"
          ]
        }
      ]
    }
  ]
}