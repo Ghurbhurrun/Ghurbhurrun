{
  "nbformat": 4,
  "nbformat_minor": 0,
  "metadata": {
    "colab": {
      "name": "Untitled0.ipynb",
      "provenance": [],
      "authorship_tag": "ABX9TyP6e4nsiPpqd2V3FNxrtBmM",
      "include_colab_link": true
    },
    "kernelspec": {
      "name": "python3",
      "display_name": "Python 3"
    },
    "language_info": {
      "name": "python"
    }
  },
  "cells": [
    {
      "cell_type": "markdown",
      "metadata": {
        "id": "view-in-github",
        "colab_type": "text"
      },
      "source": [
        "<a href=\"https://colab.research.google.com/github/Ghurbhurrun/Ghurbhurrun/blob/main/Untitled0.ipynb\" target=\"_parent\"><img src=\"https://colab.research.google.com/assets/colab-badge.svg\" alt=\"Open In Colab\"/></a>"
      ]
    },
    {
      "cell_type": "code",
      "execution_count": 17,
      "metadata": {
        "colab": {
          "base_uri": "https://localhost:8080/",
          "height": 130
        },
        "id": "4MEi_ezOGQSI",
        "outputId": "d73d7bc1-d6a3-4abd-8ee2-759cc3affe91"
      },
      "outputs": [
        {
          "output_type": "error",
          "ename": "IndentationError",
          "evalue": "ignored",
          "traceback": [
            "\u001b[0;36m  File \u001b[0;32m\"<ipython-input-17-a930126212ae>\"\u001b[0;36m, line \u001b[0;32m3\u001b[0m\n\u001b[0;31m    Exchange = input(\"Enter (D) for Dollar or Enter (Y) for Yen:\"\u001b[0m\n\u001b[0m    ^\u001b[0m\n\u001b[0;31mIndentationError\u001b[0m\u001b[0;31m:\u001b[0m unexpected indent\n"
          ]
        }
      ],
      "source": [
        "print(\"currency Exchange\")\n",
        "# To choose currency.\n",
        "   Exchange = input(\"Enter (D) for Dollar or Enter (Y) for Yen:\"\n",
        "    \n",
        "   # conversion of Exchange \n",
        "  if Exchange == \"D\" :\n",
        "    Rate = float(input(\"How much dollar you want to exchange:\"))\n",
        "    f = Rate*1.38\n",
        "    f2 = round(f,2)\n",
        "    print(\"Exchange rate is $\", f2)\n",
        "    else\n",
        "    if Exchange == \"Y\":\n",
        "      Rate = float(input(\"How much yen you want to exchange:\"))\n",
        "      f = Rate*0.010\n",
        "      f2 = round(f,2)\n",
        "      print(\"Exchange rate is $\",f2)\n",
        "\n",
        "  "
      ]
    }
  ]
}